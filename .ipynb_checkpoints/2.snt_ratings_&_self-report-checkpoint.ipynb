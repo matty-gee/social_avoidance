{
 "cells": [
  {
   "cell_type": "code",
   "execution_count": null,
   "id": "3bb63fb4-489d-41f1-b903-bd0c3cddc4d6",
   "metadata": {},
   "outputs": [],
   "source": [
    "fig, axs = plt.subplots(1, 3, figsize=(9,4), sharey=True)\n",
    "sns.regplot(x=all_df['valence_mean'], y=all_df['factor_social'], \n",
    "            scatter_kws={'alpha':0.3},\n",
    "            ax=axs[0])\n",
    "axs[0].set_xlabel('Positivity', fontsize=15)\n",
    "axs[0].set_ylabel('Avoidance', fontsize=15)\n",
    "axs[0].set_xticks([0, 25, 50, 75, 100])\n",
    "add_sig_stars('valence_mean', 'factor_social', all_df, \n",
    "              demo_controls, \n",
    "              ax=axs[0], color=\"black\")\n",
    "\n",
    "sns.regplot(x=all_df['stability_mean'], y=all_df['factor_social'], \n",
    "            scatter_kws={'alpha':0.3},\n",
    "            ax=axs[1])\n",
    "axs[1].set_xlabel('Stability', fontsize=15)\n",
    "axs[1].set_ylabel('', fontsize=15)\n",
    "axs[1].set_xticks([0, 25, 50, 75, 100])\n",
    "add_sig_stars('stability_mean', 'factor_social', all_df, \n",
    "              demo_controls, \n",
    "              ax=axs[1], color=\"black\")\n",
    "\n",
    "sns.regplot(x=all_df['arousal_mean'], y=all_df['factor_social'], \n",
    "            scatter_kws={'alpha':0.3},\n",
    "            ax=axs[2])\n",
    "axs[2].set_xlabel('Arousal', fontsize=15)\n",
    "axs[2].set_ylabel('', fontsize=15)\n",
    "axs[2].set_xticks([0, 25, 50, 75, 100])\n",
    "add_sig_stars('arousal_mean', 'factor_social', all_df, \n",
    "              demo_controls, \n",
    "              ax=axs[2], color=\"black\")\n",
    "\n",
    "plt.show()"
   ]
  }
 ],
 "metadata": {
  "kernelspec": {
   "display_name": "social_navigation_analysis",
   "language": "python",
   "name": "social_navigation_analysis"
  },
  "language_info": {
   "codemirror_mode": {
    "name": "ipython",
    "version": 3
   },
   "file_extension": ".py",
   "mimetype": "text/x-python",
   "name": "python",
   "nbconvert_exporter": "python",
   "pygments_lexer": "ipython3",
   "version": "3.10.8"
  }
 },
 "nbformat": 4,
 "nbformat_minor": 5
}
