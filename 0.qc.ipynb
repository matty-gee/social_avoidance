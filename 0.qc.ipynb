{
 "cells": [
  {
   "cell_type": "code",
   "execution_count": 11,
   "metadata": {},
   "outputs": [
    {
     "name": "stdout",
     "output_type": "stream",
     "text": [
      "Adding dots variables: 897 / 897\r"
     ]
    }
   ],
   "source": [
    "from utils_project import *\n",
    "from preprocess import ComputeBehavior2"
   ]
  },
  {
   "attachments": {},
   "cell_type": "markdown",
   "metadata": {},
   "source": [
    "## QC: memory & rt\n",
    "- ensure a solid threshold\n",
    "- consider it as a covariate"
   ]
  },
  {
   "cell_type": "code",
   "execution_count": null,
   "metadata": {},
   "outputs": [],
   "source": [
    "# # memory check\n",
    "# fig,axs = plt.subplots(1, 7, figsize=(15,2), sharey=True)\n",
    "# sns.histplot(data['memory_mean'], ax=axs[0])\n",
    "# axs[0].axvline(x=.2, color='black')\n",
    "# axs[0].set_xlim(0, 1)\n",
    "# axs[0].set_xticks([0,.5,1])\n",
    "# for r,role in enumerate(character_roles): \n",
    "#     sns.histplot(data[f'memory_{role}'], color='grey', ax=axs[1+r], bins=5)\n",
    "#     axs[1+r].set_xlim(0, 1)\n",
    "#     axs[1+r].set_xticks([0,.5,1])\n",
    "# plt.tight_layout()\n",
    "# plt.show()\n",
    "\n",
    "# # print out n at diff thresholds\n",
    "# for thresh in [.2, .33, .5]: \n",
    "#     print(f\"memory threshold={thresh}, n={np.sum(data['memory_mean'] > thresh)}\")"
   ]
  },
  {
   "attachments": {},
   "cell_type": "markdown",
   "metadata": {},
   "source": [
    "# Questions about task engagement etc..."
   ]
  },
  {
   "cell_type": "code",
   "execution_count": null,
   "metadata": {
    "collapsed": true,
    "jupyter": {
     "outputs_hidden": true
    },
    "tags": []
   },
   "outputs": [],
   "source": [
    "df[[c for c in df.columns if 'storyline' in c]]"
   ]
  },
  {
   "cell_type": "code",
   "execution_count": null,
   "metadata": {
    "jupyter": {
     "source_hidden": true
    },
    "tags": []
   },
   "outputs": [],
   "source": [
    "# first asked about it on 1-10 scale, then on 1-100 scale\n",
    "# so should fix this...\n",
    "\n",
    "init_mask = df['sample'] == 0\n",
    "repl_mask = df['sample'] == 1\n",
    "\n",
    "init_ques = df[init_mask][['storyline_engagement','storyline_difficulty','storyline_relatability']] * 10\n",
    "repl_ques = df[repl_mask][['storyline_engagement','storyline_difficulty','storyline_relatability']]\n",
    "df[['storyline_engagement_rescaled','storyline_difficulty_rescaled','storyline_relatability_rescaled']] = pd.concat([init_ques, repl_ques])"
   ]
  },
  {
   "cell_type": "code",
   "execution_count": null,
   "metadata": {
    "jupyter": {
     "source_hidden": true
    },
    "tags": []
   },
   "outputs": [],
   "source": [
    "fig, axs = plt.subplots(1,3, figsize=(8,3))\n",
    "sns.histplot(df['storyline_engagement_rescaled'], bins=10, ax=axs[0])\n",
    "sns.histplot(df['storyline_difficulty_rescaled'], bins=10, ax=axs[1])\n",
    "sns.histplot(df['storyline_relatability_rescaled'], bins=10, ax=axs[2])\n",
    "plt.tight_layout()\n",
    "plt.show()"
   ]
  },
  {
   "cell_type": "code",
   "execution_count": null,
   "metadata": {
    "jupyter": {
     "source_hidden": true
    },
    "tags": []
   },
   "outputs": [],
   "source": [
    "xvars = ['demo_age','memory_mean', 'valence_mean']\n",
    "yvars = ['storyline_engagement_rescaled','storyline_difficulty_rescaled','storyline_relatability_rescaled']\n",
    "\n",
    "fig, axs = plt.subplots(len(xvars), len(yvars), figsize=(9, 2*len(yvars)))\n",
    "for xi, x in enumerate(xvars):\n",
    "    for yi, y in enumerate(yvars):\n",
    "        sns.regplot(x=df[x], y=df[y], scatter_kws={'alpha':0.3, 's':30}, color='darkblue', ax=axs[xi,yi])\n",
    "        axs[xi,yi].set_ylabel(y.split('_')[1])\n",
    "plt.tight_layout()\n",
    "plt.show()"
   ]
  },
  {
   "cell_type": "code",
   "execution_count": null,
   "metadata": {},
   "outputs": [],
   "source": []
  }
 ],
 "metadata": {
  "kernelspec": {
   "display_name": "social_navigation_analysis",
   "language": "python",
   "name": "python3"
  },
  "language_info": {
   "codemirror_mode": {
    "name": "ipython",
    "version": 3
   },
   "file_extension": ".py",
   "mimetype": "text/x-python",
   "name": "python",
   "nbconvert_exporter": "python",
   "pygments_lexer": "ipython3",
   "version": "3.9.17"
  },
  "vscode": {
   "interpreter": {
    "hash": "afb432af2a6d4e683b6deca85d226b121832fa8b450f98b144295a2f52816835"
   }
  }
 },
 "nbformat": 4,
 "nbformat_minor": 4
}
