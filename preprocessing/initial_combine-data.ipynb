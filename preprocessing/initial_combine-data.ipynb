{
 "cells": [
  {
   "cell_type": "code",
   "execution_count": 1,
   "metadata": {},
   "outputs": [
    {
     "name": "stderr",
     "output_type": "stream",
     "text": [
      "//anaconda3/lib/python3.7/site-packages/pandas/compat/_optional.py:138: UserWarning: Pandas requires version '2.7.0' or newer of 'numexpr' (version '2.6.9' currently installed).\n",
      "  warnings.warn(msg, UserWarning)\n"
     ]
    }
   ],
   "source": [
    "import pandas as pd\n",
    "import numpy as np\n",
    "import json\n",
    "import re\n",
    "import glob\n",
    "from datetime import date\n",
    "import math\n",
    "\n",
    "# main_dir = '/Volumes/synapse/projects/SocialSpace/Projects/Behavior'\n",
    "main_dir = '/Users/matty_gee/Desktop/SNT/SNT-behavior'\n",
    "\n",
    "from data_prep_utils import * \n",
    "from compute_task_variables import *\n",
    "\n",
    "from os.path import exists \n",
    "import sys\n",
    "from scipy.stats import rankdata\n",
    "# sys.path.insert(0, main_dir + '/code')\n",
    "# from code_base import * \n",
    "\n",
    "character_roles = ['first', 'second', 'assistant', 'powerful', 'boss', 'neutral'] # order in matlab"
   ]
  },
  {
   "cell_type": "markdown",
   "metadata": {},
   "source": [
    "# Aggregate"
   ]
  },
  {
   "cell_type": "code",
   "execution_count": 6,
   "metadata": {
    "jupyter": {
     "source_hidden": true
    }
   },
   "outputs": [],
   "source": [
    "# compute the behavioral geometry            \n",
    "base_dir = main_dir + '/Online/Prolific/Data/Original_2021'\n",
    "task_files = glob.glob(base_dir + '/Task/Organized/*.xlsx')\n",
    "compute_task_variables(base_dir, task_files)"
   ]
  },
  {
   "cell_type": "code",
   "execution_count": 3,
   "metadata": {},
   "outputs": [],
   "source": [
    "summary_dir = main_dir + '/Online/Prolific/Data/Original_2021/Summary'\n",
    "vt_df  = pd.read_excel(glob.glob(summary_dir + '/Posttask-original-VT_summary_*')[0])\n",
    "pav_df  = pd.read_excel(glob.glob(summary_dir + '/Posttask-original-pavlovia_summary_*')[0])\n",
    "\n",
    "# combine post task dfs, with diff columns\n",
    "all_cols = list(set(pav_df.columns))\n",
    "all_cols.sort()\n",
    "dfs = []\n",
    "for df_ in [pav_df, vt_df]:\n",
    "    df = pd.DataFrame(index=np.arange(0,len(df_)), columns=all_cols)\n",
    "    df.loc[:, list(df_.columns)] = df_\n",
    "    dfs.append(df)\n",
    "post_df = pd.concat(dfs)\n",
    "sub_list = post_df['sub_id']\n",
    "del post_df['sub_id']\n",
    "post_df.insert(0, 'sub_id', sub_list)\n",
    "\n",
    "# rename some columns for consistency...\n",
    "post_df.columns = post_df.columns.str.replace(\"mem\", \"memory_\")\n",
    "post_df.columns = post_df.columns.str.replace(\"gender.1\", \"feminine_masculine\")\n",
    "dims = ['dots_affil', 'dots_power', 'feminine_masculine', 'approachable', 'arousal','competence','dominant', 'gender', 'likability',\n",
    "        'memory', 'race', 'similarity', 'skincolor', 'stability', 'status', 'trustworthy', 'valence', 'youthful']\n",
    "for dim in dims:\n",
    "    for col in post_df.columns:\n",
    "        if dim in col:\n",
    "            col_ = col.split('_')\n",
    "            if 'dots' in col:\n",
    "                col_ = col_[1] + '_' + col_[2] + '_'+ col_[0]\n",
    "            else: \n",
    "                col_ = col_[1] + '_' + col_[0]\n",
    "            post_df.rename(columns={col:col_}, inplace=True)"
   ]
  },
  {
   "cell_type": "code",
   "execution_count": 4,
   "metadata": {},
   "outputs": [],
   "source": [
    "task_df = pd.read_excel(glob.glob(summary_dir + '/SNT*')[0])\n",
    "survey_df = pd.read_excel(glob.glob(summary_dir + '/Questionnaire_summary_*')[0])\n",
    "survey_df.rename(columns={'sni_hc_score':'sni_network_diversity', 'sni_size_score':'sni_number_ppl'}, inplace=True)\n",
    "\n",
    "# find overlap\n",
    "task_subs = task_df['sub_id'].values\n",
    "post_subs = post_df['sub_id'].values\n",
    "survey_subs = survey_df['sub_id'].values\n",
    "\n",
    "overlap = list(set(survey_subs) & set(task_subs) & set(post_subs))\n",
    "sub_dfs = []\n",
    "for sub in overlap:\n",
    "    \n",
    "    task_ix = np.where(task_subs == sub)[0][0]\n",
    "    post_ix = np.where(post_subs == sub)[0][0]\n",
    "    survey_ix = np.where(survey_subs == sub)[0][0]\n",
    "    sub_data = np.concatenate((task_df.iloc[task_ix, 1:], \n",
    "                               post_df.iloc[post_ix, 1:], \n",
    "                               survey_df.iloc[survey_ix, 1:])).reshape(1,-1)                      \n",
    "    colnames = np.concatenate((task_df.iloc[:, 1:].columns.values, \n",
    "                               post_df.iloc[:, 1:].columns.values, \n",
    "                               survey_df.iloc[:, 1:].columns.values))\n",
    "    sub_dfs.append(pd.DataFrame(sub_data, columns=colnames)) \n",
    "    \n",
    "data_df = pd.concat(sub_dfs)\n",
    "\n",
    "data_df['demo_employed'] = ((data_df['demo_occupation']!=8) & (data_df['demo_occupation']!=9)) * 1\n",
    "\n",
    "# normalize the dots data\n",
    "data_df[['dots_affil_' + char for char in character_roles]] = (data_df[['dots_affil_' + char for char in character_roles]] - 500)/500\n",
    "data_df[['dots_power_' + char for char in character_roles]] = (500 - data_df[['dots_power_' + char for char in character_roles]])/500\n",
    "data_df.to_excel(summary_dir + '/All-data_summary_n' + str(len(data_df)) + '.xlsx', index=False)"
   ]
  },
  {
   "cell_type": "code",
   "execution_count": null,
   "metadata": {},
   "outputs": [],
   "source": []
  }
 ],
 "metadata": {
  "kernelspec": {
   "display_name": "Python 3",
   "language": "python",
   "name": "python3"
  },
  "language_info": {
   "codemirror_mode": {
    "name": "ipython",
    "version": 3
   },
   "file_extension": ".py",
   "mimetype": "text/x-python",
   "name": "python",
   "nbconvert_exporter": "python",
   "pygments_lexer": "ipython3",
   "version": "3.7.3"
  }
 },
 "nbformat": 4,
 "nbformat_minor": 4
}
